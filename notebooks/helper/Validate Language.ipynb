{
 "cells": [
  {
   "cell_type": "code",
   "execution_count": 2,
   "metadata": {},
   "outputs": [],
   "source": [
    "import pandas as pd\n",
    "import json"
   ]
  },
  {
   "cell_type": "markdown",
   "metadata": {},
   "source": [
    "## Tweets"
   ]
  },
  {
   "cell_type": "code",
   "execution_count": 3,
   "metadata": {},
   "outputs": [],
   "source": [
    "data = pd.read_csv('predictions/twitter_preproc3/all_annotated.tsv', sep = '\\t')\n",
    "\n",
    "data['Country'] = data['Country'].replace({'US': 'en', 'GB':'en'})\n",
    "predictions = []\n",
    "with open('predictions/twitter_preproc3/output-twitter.txt', 'r') as f:\n",
    "    lines = f.read().split('\\n')\n",
    "    \n",
    "    for i in range(4, len(lines) - 1):\n",
    "        predictions.append(json.loads(lines[i])['lang_code'])"
   ]
  },
  {
   "cell_type": "code",
   "execution_count": 5,
   "metadata": {},
   "outputs": [],
   "source": [
    "data['Predictions'] = predictions\n",
    "data = data[data['Country'].notna()]\n",
    "data['Country'] = data['Country'].apply(lambda x: x.lower())"
   ]
  },
  {
   "cell_type": "code",
   "execution_count": 6,
   "metadata": {},
   "outputs": [
    {
     "data": {
      "text/plain": [
       "4492"
      ]
     },
     "execution_count": 6,
     "metadata": {},
     "output_type": "execute_result"
    }
   ],
   "source": [
    "data.query('Country == Predictions').shape[0]"
   ]
  },
  {
   "cell_type": "code",
   "execution_count": 7,
   "metadata": {},
   "outputs": [
    {
     "name": "stdout",
     "output_type": "stream",
     "text": [
      "Tweet accuracy %  42.8135722455204\n"
     ]
    }
   ],
   "source": [
    "print('Tweet accuracy % ', data.query('Country == Predictions').shape[0] / data.shape[0] * 100)"
   ]
  },
  {
   "cell_type": "markdown",
   "metadata": {},
   "source": [
    "## Sentences"
   ]
  },
  {
   "cell_type": "code",
   "execution_count": 8,
   "metadata": {},
   "outputs": [],
   "source": [
    "data = pd.read_csv('predictions/sentences_preproc3/clips.tsv', sep = '\\t')"
   ]
  },
  {
   "cell_type": "code",
   "execution_count": 9,
   "metadata": {},
   "outputs": [],
   "source": [
    "predictions = []\n",
    "with open('predictions/sentences_preproc3/output-sentences.txt', 'r') as f:\n",
    "    lines = f.read().split('\\n')\n",
    "    \n",
    "    for i in range(len(lines) - 1):\n",
    "        predictions.append(json.loads(lines[i])['lang_code'])"
   ]
  },
  {
   "cell_type": "code",
   "execution_count": 10,
   "metadata": {},
   "outputs": [],
   "source": [
    "data['Predictions'] = predictions"
   ]
  },
  {
   "cell_type": "code",
   "execution_count": 11,
   "metadata": {},
   "outputs": [
    {
     "name": "stdout",
     "output_type": "stream",
     "text": [
      "Sentence accuracy %  82.58098650826099\n"
     ]
    }
   ],
   "source": [
    "print('Sentence accuracy % ', data.query('locale == Predictions').shape[0] / data.shape[0] * 100)"
   ]
  }
 ],
 "metadata": {
  "kernelspec": {
   "display_name": "Python 3",
   "language": "python",
   "name": "python3"
  },
  "language_info": {
   "codemirror_mode": {
    "name": "ipython",
    "version": 3
   },
   "file_extension": ".py",
   "mimetype": "text/x-python",
   "name": "python",
   "nbconvert_exporter": "python",
   "pygments_lexer": "ipython3",
   "version": "3.6.6"
  }
 },
 "nbformat": 4,
 "nbformat_minor": 2
}
