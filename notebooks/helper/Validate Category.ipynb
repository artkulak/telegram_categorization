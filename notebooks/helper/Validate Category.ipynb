{
 "cells": [
  {
   "cell_type": "code",
   "execution_count": 1,
   "metadata": {},
   "outputs": [],
   "source": [
    "import pandas as pd\n",
    "from tqdm import tqdm_notebook\n",
    "import json\n",
    "\n",
    "import numpy as np"
   ]
  },
  {
   "cell_type": "code",
   "execution_count": 2,
   "metadata": {},
   "outputs": [
    {
     "name": "stdout",
     "output_type": "stream",
     "text": [
      "in 33022\n",
      "out 33022\n"
     ]
    }
   ],
   "source": [
    "file = 'dc0206'\n",
    "\n",
    "with open(f'telegram_data/{file}-input.txt', 'r', encoding='utf-8') as f:\n",
    "    input_lines = f.read().split('\\n')\n",
    "\n",
    "with open(f'telegram_data/{file}-output.txt', 'r', encoding='utf-8') as f:\n",
    "    output_lines = f.read().split('\\n')\n",
    "    \n",
    "\n",
    "data = {\n",
    "    \"title\": [],\n",
    "    \"description\": [],\n",
    "    \"recent_posts\": [],\n",
    "    \"language\": [],\n",
    "    'categories': []\n",
    "}\n",
    "\n",
    "for i, line in enumerate(input_lines):\n",
    "    try:\n",
    "        line = json.loads(line)\n",
    "    except:\n",
    "        print('in', i)\n",
    "    \n",
    "    if line != '':\n",
    "        data['title'].append(line['title'])\n",
    "        data['description'].append(line['description'])\n",
    "        data['recent_posts'].append('\\n'.join(line['recent_posts']))\n",
    "        \n",
    "for i, line in enumerate(output_lines):\n",
    "    try:\n",
    "        line = json.loads(line)\n",
    "    except:\n",
    "        print('out', i)\n",
    "    \n",
    "    if line != '':\n",
    "        data['language'].append(line['lang_code'])\n",
    "        data['categories'].append(line['category'])\n",
    "        \n",
    "data = pd.DataFrame(data)"
   ]
  },
  {
   "cell_type": "code",
   "execution_count": 11,
   "metadata": {},
   "outputs": [
    {
     "data": {
      "text/plain": [
       "title                                           @BTC_CHANGE_BOT‌‌\n",
       "description                                                      \n",
       "recent_posts    Покупка, продажа BTC\\nПрямая ссылка на бота \\n...\n",
       "language                                                       ru\n",
       "categories      {'Art & Design': 0.0238095, 'Bets & Gambling':...\n",
       "Name: 3735, dtype: object"
      ]
     },
     "execution_count": 11,
     "metadata": {},
     "output_type": "execute_result"
    }
   ],
   "source": [
    "index = 50\n",
    "data.query('language == \"ru\"').iloc[index]"
   ]
  },
  {
   "cell_type": "code",
   "execution_count": 12,
   "metadata": {},
   "outputs": [
    {
     "name": "stdout",
     "output_type": "stream",
     "text": [
      "Art & Design 0.0238095\n"
     ]
    }
   ],
   "source": [
    "keys = list(data.query('language == \"ru\"').iloc[index,4].keys())\n",
    "preds = list(data.query('language == \"ru\"').iloc[index,4].values())\n",
    "idx = np.argmax(preds)\n",
    "print(keys[idx], preds[idx])"
   ]
  },
  {
   "cell_type": "code",
   "execution_count": 13,
   "metadata": {},
   "outputs": [
    {
     "data": {
      "text/plain": [
       "'Покупка, продажа BTC\\nПрямая ссылка на бота \\nжми 👉 https://t.me/BTC_CHANGE_BOT'"
      ]
     },
     "execution_count": 13,
     "metadata": {},
     "output_type": "execute_result"
    }
   ],
   "source": [
    "data.query('language == \"ru\"').iloc[index, 2]"
   ]
  },
  {
   "cell_type": "code",
   "execution_count": null,
   "metadata": {},
   "outputs": [],
   "source": []
  }
 ],
 "metadata": {
  "kernelspec": {
   "display_name": "Python 3",
   "language": "python",
   "name": "python3"
  },
  "language_info": {
   "codemirror_mode": {
    "name": "ipython",
    "version": 3
   },
   "file_extension": ".py",
   "mimetype": "text/x-python",
   "name": "python",
   "nbconvert_exporter": "python",
   "pygments_lexer": "ipython3",
   "version": "3.6.6"
  }
 },
 "nbformat": 4,
 "nbformat_minor": 2
}
