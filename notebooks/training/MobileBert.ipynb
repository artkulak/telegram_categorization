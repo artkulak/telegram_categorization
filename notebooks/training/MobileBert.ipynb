{
 "cells": [
  {
   "cell_type": "code",
   "execution_count": 2,
   "metadata": {},
   "outputs": [],
   "source": [
    "import numpy as np\n",
    "import os\n",
    "\n",
    "import tensorflow as tf\n",
    "assert tf.__version__.startswith('2')\n",
    "\n",
    "from tflite_model_maker import configs\n",
    "from tflite_model_maker import ExportFormat\n",
    "from tflite_model_maker import model_spec\n",
    "from tflite_model_maker import text_classifier\n",
    "from tflite_model_maker import TextClassifierDataLoader"
   ]
  },
  {
   "cell_type": "code",
   "execution_count": 3,
   "metadata": {},
   "outputs": [],
   "source": [
    "import numpy as np, pandas as pd\n",
    "from tqdm import tqdm_notebook\n",
    "import json\n",
    "\n",
    "from pathlib import Path\n",
    "import os\n",
    "import fasttext\n",
    "import csv"
   ]
  },
  {
   "cell_type": "markdown",
   "metadata": {},
   "source": [
    "## Prepare the data"
   ]
  },
  {
   "cell_type": "code",
   "execution_count": 4,
   "metadata": {},
   "outputs": [],
   "source": [
    "def load_data(file):\n",
    "\n",
    "    with open(f'{file}', 'r', encoding='utf-8') as f:\n",
    "        input_lines = f.read().split('\\n')\n",
    "\n",
    "    data = {\n",
    "        \"title\": [],\n",
    "        \"description\": [],\n",
    "        \"recent_posts\": [],\n",
    "    }\n",
    "\n",
    "    for line in input_lines:\n",
    "        try:\n",
    "            line = json.loads(line)\n",
    "        except:\n",
    "            pass\n",
    "\n",
    "        if line != '':\n",
    "            try:\n",
    "                data['title'].append(line['title'])\n",
    "                data['description'].append(line['description'])\n",
    "                data['recent_posts'].append('\\n'.join(line['recent_posts']))\n",
    "            except:\n",
    "                print('Parse error')\n",
    "\n",
    "    data = pd.DataFrame(data)\n",
    "    data['label'] = file.split('/')[-1].split('.')[0]\n",
    "    \n",
    "    return data"
   ]
  },
  {
   "cell_type": "code",
   "execution_count": 5,
   "metadata": {},
   "outputs": [
    {
     "name": "stdout",
     "output_type": "stream",
     "text": [
      "Parse error\n",
      "Parse error\n",
      "Parse error\n"
     ]
    }
   ],
   "source": [
    "data = pd.DataFrame(columns = ['title', 'description', 'recent_posts', 'label'])\n",
    "PATH = Path('tgparser/RU_TGSTAT_DATA/')\n",
    "for file in os.listdir(PATH):\n",
    "    data = pd.concat([data, load_data(str(PATH / file))]).reset_index(drop=True)\n",
    "    \n",
    "data['recent_posts'] = data['recent_posts'].apply(lambda x: x.replace('\\u200b', ''))\n",
    "data['label'] = data['label'].apply(lambda x: x.split('_')[0])"
   ]
  },
  {
   "cell_type": "code",
   "execution_count": 6,
   "metadata": {},
   "outputs": [],
   "source": [
    "mapper = {'Art & Design': '__label__0',\n",
    " 'Bets & Gambling': '__label__1',\n",
    " 'Books': '__label__2',\n",
    " 'Business & Entrepreneurship': '__label__3',\n",
    " 'Cars & Other Vehicles': '__label__4',\n",
    " 'Celebrities & Lifestyle': '__label__5',\n",
    " 'Cryptocurrencies': '__label__6',\n",
    " 'Culture & Events': '__label__7',\n",
    " 'Curious Facts': '__label__8',\n",
    " 'Directories of Channels & Bots': '__label__9',\n",
    " 'Economy & Finance': '__label__10',\n",
    " 'Education': '__label__11',\n",
    " 'Erotic Content': '__label__12',\n",
    " 'Fashion & Beauty': '__label__13',\n",
    " 'Fitness': '__label__14',\n",
    " 'Food & Cooking': '__label__15',\n",
    " 'Foreign Languages': '__label__16',\n",
    " 'Health & Medicine': '__label__17',\n",
    " 'History': '__label__18',\n",
    " 'Hobbies & Activities': '__label__19',\n",
    " 'Home & Architecture': '__label__20',\n",
    " 'Humor & Memes': '__label__21',\n",
    " 'Investments': '__label__22',\n",
    " 'Job Listings': '__label__23',\n",
    " 'Kids & Parenting': '__label__24',\n",
    " 'Marketing & PR': '__label__25',\n",
    " 'Motivation & Self-Development': '__label__26',\n",
    " 'Movies': '__label__27',\n",
    " 'Music': '__label__28',\n",
    " 'Offers & Promotions': '__label__29',\n",
    " 'Pets': '__label__30',\n",
    " 'Politics & Incidents': '__label__31',\n",
    " 'Psychology & Relationships': '__label__32',\n",
    " 'Real Estate': '__label__33',\n",
    " 'Recreation & Entertainment': '__label__34',\n",
    " 'Religion & Spirituality': '__label__35',\n",
    " 'Science': '__label__36',\n",
    " 'Sports': '__label__37',\n",
    " 'Technology & Internet': '__label__38',\n",
    " 'Travel & Tourism': '__label__39',\n",
    " 'Video Games': '__label__40',\n",
    " 'Other': '__label__41'}\n",
    "\n",
    "reverse_mapper = {v: k for k, v in mapper.items()}"
   ]
  },
  {
   "cell_type": "code",
   "execution_count": 7,
   "metadata": {},
   "outputs": [],
   "source": [
    "# Remove emojis\n",
    "import re\n",
    "\n",
    "\n",
    "def deEmojify(text):    \n",
    "    regex_pattern = re.compile(\"[\"\n",
    "        u\"\\U0001F600-\\U0001F64F\"  # emoticons\n",
    "        u\"\\U0001F300-\\U0001F5FF\"  # symbols & pictographs\n",
    "        u\"\\U0001F680-\\U0001F6FF\"  # transport & map symbols\n",
    "        u\"\\U0001F1E0-\\U0001F1FF\"  # flags (iOS)\n",
    "        u\"\\U00002500-\\U00002BEF\"  # chinese char\n",
    "        u\"\\U00002702-\\U000027B0\"\n",
    "        u\"\\U00002702-\\U000027B0\"\n",
    "        u\"\\U000024C2-\\U0001F251\"\n",
    "        u\"\\U0001f926-\\U0001f937\"\n",
    "        u\"\\U00010000-\\U0010ffff\"\n",
    "        u\"\\u2640-\\u2642\" \n",
    "        u\"\\u2600-\\u2B55\"\n",
    "        u\"\\u200d\"\n",
    "        u\"\\u23cf\"\n",
    "        u\"\\u23e9\"\n",
    "        u\"\\u231a\"\n",
    "        u\"\\ufe0f\"  # dingbats\n",
    "        u\"\\u3030\"                    \n",
    "                      \"]+\", re.UNICODE)\n",
    "    return regex_pattern.sub(r'',text)\n",
    "\n",
    "data['recent_posts'] = data['recent_posts'].apply(deEmojify)\n",
    "data['title'] = data['title'].apply(deEmojify)\n",
    "data['description'] = data['description'].apply(deEmojify)"
   ]
  },
  {
   "cell_type": "code",
   "execution_count": 8,
   "metadata": {},
   "outputs": [],
   "source": [
    "data['recent_posts'] = data['recent_posts'].apply(lambda x: x.lower())\n",
    "data['title'] = data['title'].apply(lambda x: x.lower())\n",
    "data['description'] = data['description'].apply(lambda x: x.lower())"
   ]
  },
  {
   "cell_type": "code",
   "execution_count": 9,
   "metadata": {},
   "outputs": [
    {
     "name": "stderr",
     "output_type": "stream",
     "text": [
      "/opt/conda/lib/python3.7/site-packages/ipykernel_launcher.py:4: TqdmDeprecationWarning: This function will be removed in tqdm==5.0.0\n",
      "Please use `tqdm.notebook.tqdm` instead of `tqdm.tqdm_notebook`\n",
      "  after removing the cwd from sys.path.\n"
     ]
    },
    {
     "data": {
      "application/vnd.jupyter.widget-view+json": {
       "model_id": "6cfad67c0e4d4da9a575cd5b51825b0b",
       "version_major": 2,
       "version_minor": 0
      },
      "text/plain": [
       "  0%|          | 0/7070 [00:00<?, ?it/s]"
      ]
     },
     "metadata": {},
     "output_type": "display_data"
    }
   ],
   "source": [
    "# Remove adds from all posts\n",
    "\n",
    "ALL_POSTS = []\n",
    "for v in tqdm_notebook(data['recent_posts'].apply(lambda x: x.split('\\n'))):\n",
    "    ALL_POSTS.extend(v)\n",
    "post_counts = pd.Series(ALL_POSTS).value_counts().sort_values(ascending = False)\n",
    "\n",
    "\n",
    "def filter_posts(posts, threshold = 5):\n",
    "    posts = posts.split('\\n')\n",
    "    filtered_posts = []\n",
    "    for post in posts:\n",
    "        if post_counts[post] < threshold:\n",
    "            filtered_posts.append(post)\n",
    "    return '\\n'.join(filtered_posts)\n",
    "\n",
    "for i in range(data.shape[0]):\n",
    "    data.iloc[i, 2] = filter_posts(data.iloc[i, 2])"
   ]
  },
  {
   "cell_type": "code",
   "execution_count": 10,
   "metadata": {},
   "outputs": [],
   "source": [
    "def removeEmail(text):\n",
    "    pattern = re.compile(\"((\\w+)(\\.|_)?(\\w*)@(\\w+)(\\.(\\w+))+)\")\n",
    "    return pattern.sub(r'', text)\n",
    "\n",
    "data['recent_posts'] = data['recent_posts'].apply(removeEmail)\n",
    "data['title'] = data['title'].apply(removeEmail)\n",
    "data['description'] = data['description'].apply(removeEmail)"
   ]
  },
  {
   "cell_type": "code",
   "execution_count": 11,
   "metadata": {},
   "outputs": [],
   "source": [
    "def removeUsername(text):\n",
    "    pattern = re.compile(\"(@(\\w+))\")\n",
    "    return pattern.sub(r'', text)\n",
    "\n",
    "data['recent_posts'] = data['recent_posts'].apply(removeUsername)\n",
    "data['title'] = data['title'].apply(removeUsername)\n",
    "data['description'] = data['description'].apply(removeUsername)"
   ]
  },
  {
   "cell_type": "code",
   "execution_count": 12,
   "metadata": {},
   "outputs": [],
   "source": [
    "def removeLinks(text):\n",
    "    pattern = re.compile(\"(https?://[^ ]+)\")\n",
    "    return pattern.sub(r'', text)\n",
    "\n",
    "data['recent_posts'] = data['recent_posts'].apply(removeLinks)\n",
    "data['title'] = data['title'].apply(removeLinks)\n",
    "data['description'] = data['description'].apply(removeLinks)"
   ]
  },
  {
   "cell_type": "code",
   "execution_count": 13,
   "metadata": {},
   "outputs": [],
   "source": [
    "from sklearn.model_selection import train_test_split\n",
    "\n",
    "train, test = train_test_split(data, shuffle = True, train_size = 0.7)\n",
    "\n",
    "train = train.reset_index(drop = True)\n",
    "test = test.reset_index(drop = True)"
   ]
  },
  {
   "cell_type": "code",
   "execution_count": 14,
   "metadata": {},
   "outputs": [],
   "source": [
    "def sample_data(data):\n",
    "    output_data = []\n",
    "    N_SAMPLES = 10\n",
    "    for i in range(data.shape[0]):\n",
    "        for j in range(N_SAMPLES):\n",
    "            titleText = data.iloc[i, 0] + data.iloc[i, 1]\n",
    "            posts = '\\n'.join(pd.Series(data.iloc[i, 2].split('\\n')).sample(n = 5, replace = True).values)\n",
    "            output_data.append([mapper[data.iloc[i, 3]], titleText + posts])\n",
    "    return pd.DataFrame(output_data)"
   ]
  },
  {
   "cell_type": "code",
   "execution_count": 15,
   "metadata": {},
   "outputs": [
    {
     "name": "stdout",
     "output_type": "stream",
     "text": [
      "(4949, 4) (2121, 4)\n"
     ]
    }
   ],
   "source": [
    "print(train.shape, test.shape)"
   ]
  },
  {
   "cell_type": "code",
   "execution_count": 16,
   "metadata": {},
   "outputs": [],
   "source": [
    "train = sample_data(train)\n",
    "test = sample_data(test)"
   ]
  },
  {
   "cell_type": "code",
   "execution_count": 17,
   "metadata": {},
   "outputs": [
    {
     "name": "stdout",
     "output_type": "stream",
     "text": [
      "(49490, 2) (21210, 2)\n"
     ]
    }
   ],
   "source": [
    "print(train.shape, test.shape)"
   ]
  },
  {
   "cell_type": "code",
   "execution_count": 18,
   "metadata": {},
   "outputs": [],
   "source": [
    "train.columns = ['label', 'text']\n",
    "test.columns = ['label', 'text']"
   ]
  },
  {
   "cell_type": "code",
   "execution_count": 19,
   "metadata": {},
   "outputs": [],
   "source": [
    "train.to_csv('data/train.csv', index = None)\n",
    "test.to_csv('data/test.csv', index = None)"
   ]
  },
  {
   "cell_type": "markdown",
   "metadata": {},
   "source": [
    "## Train model"
   ]
  },
  {
   "cell_type": "code",
   "execution_count": 20,
   "metadata": {},
   "outputs": [],
   "source": [
    "#spec = model_spec.get('mobilebert_classifier')\n",
    "spec=  model_spec.get('average_word_vec')"
   ]
  },
  {
   "cell_type": "code",
   "execution_count": 21,
   "metadata": {},
   "outputs": [
    {
     "name": "stdout",
     "output_type": "stream",
     "text": [
      "CPU times: user 45.1 s, sys: 626 ms, total: 45.7 s\n",
      "Wall time: 45.9 s\n"
     ]
    }
   ],
   "source": [
    "%%time\n",
    "\n",
    "train_data = TextClassifierDataLoader.from_csv(\n",
    "      filename='data/train.csv',\n",
    "      text_column='text',\n",
    "      label_column='label',\n",
    "      model_spec=spec,\n",
    "      is_training=True)"
   ]
  },
  {
   "cell_type": "code",
   "execution_count": 22,
   "metadata": {},
   "outputs": [
    {
     "name": "stdout",
     "output_type": "stream",
     "text": [
      "CPU times: user 12.3 s, sys: 116 ms, total: 12.4 s\n",
      "Wall time: 12.4 s\n"
     ]
    }
   ],
   "source": [
    "%%time\n",
    "\n",
    "test_data = TextClassifierDataLoader.from_csv(\n",
    "      filename='data/test.csv',\n",
    "      text_column='text',\n",
    "      label_column='label',\n",
    "      model_spec=spec,\n",
    "      is_training=False)"
   ]
  },
  {
   "cell_type": "code",
   "execution_count": 25,
   "metadata": {},
   "outputs": [
    {
     "name": "stdout",
     "output_type": "stream",
     "text": [
      "Epoch 1/20\n",
      "1546/1546 [==============================] - 4s 2ms/step - loss: 3.6869 - accuracy: 0.0501\n",
      "Epoch 2/20\n",
      "1546/1546 [==============================] - 4s 2ms/step - loss: 3.5493 - accuracy: 0.0652\n",
      "Epoch 3/20\n",
      "1546/1546 [==============================] - 4s 2ms/step - loss: 3.4326 - accuracy: 0.0877\n",
      "Epoch 4/20\n",
      "1546/1546 [==============================] - 4s 2ms/step - loss: 3.2510 - accuracy: 0.1295\n",
      "Epoch 5/20\n",
      "1546/1546 [==============================] - 4s 2ms/step - loss: 3.0845 - accuracy: 0.1726\n",
      "Epoch 6/20\n",
      "1546/1546 [==============================] - 4s 2ms/step - loss: 2.9522 - accuracy: 0.2000\n",
      "Epoch 7/20\n",
      "1546/1546 [==============================] - 4s 2ms/step - loss: 2.8424 - accuracy: 0.2193\n",
      "Epoch 8/20\n",
      "1546/1546 [==============================] - 4s 2ms/step - loss: 2.7516 - accuracy: 0.2374\n",
      "Epoch 9/20\n",
      "1546/1546 [==============================] - 4s 2ms/step - loss: 2.6697 - accuracy: 0.2598\n",
      "Epoch 10/20\n",
      "1546/1546 [==============================] - 4s 2ms/step - loss: 2.5953 - accuracy: 0.2816\n",
      "Epoch 11/20\n",
      "1546/1546 [==============================] - 4s 2ms/step - loss: 2.5254 - accuracy: 0.2998\n",
      "Epoch 12/20\n",
      "1546/1546 [==============================] - 3s 2ms/step - loss: 2.4584 - accuracy: 0.3186\n",
      "Epoch 13/20\n",
      "1546/1546 [==============================] - 3s 2ms/step - loss: 2.3955 - accuracy: 0.3341\n",
      "Epoch 14/20\n",
      "1546/1546 [==============================] - 3s 2ms/step - loss: 2.3364 - accuracy: 0.3521\n",
      "Epoch 15/20\n",
      "1546/1546 [==============================] - 4s 2ms/step - loss: 2.2890 - accuracy: 0.3668\n",
      "Epoch 16/20\n",
      "1546/1546 [==============================] - 3s 2ms/step - loss: 2.2400 - accuracy: 0.3795\n",
      "Epoch 17/20\n",
      "1546/1546 [==============================] - 4s 2ms/step - loss: 2.2005 - accuracy: 0.3976\n",
      "Epoch 18/20\n",
      "1546/1546 [==============================] - 4s 2ms/step - loss: 2.1670 - accuracy: 0.4007\n",
      "Epoch 19/20\n",
      "1546/1546 [==============================] - 4s 3ms/step - loss: 2.1266 - accuracy: 0.4143\n",
      "Epoch 20/20\n",
      "1546/1546 [==============================] - 4s 2ms/step - loss: 2.0952 - accuracy: 0.4219\n"
     ]
    }
   ],
   "source": [
    "model = text_classifier.create(train_data, model_spec=spec, epochs = 20)"
   ]
  },
  {
   "cell_type": "code",
   "execution_count": 26,
   "metadata": {},
   "outputs": [
    {
     "name": "stdout",
     "output_type": "stream",
     "text": [
      "663/663 [==============================] - 1s 1ms/step - loss: 2.6411 - accuracy: 0.3591\n"
     ]
    }
   ],
   "source": [
    "loss, acc = model.evaluate(test_data)"
   ]
  },
  {
   "cell_type": "markdown",
   "metadata": {},
   "source": [
    "## Export tflite model"
   ]
  },
  {
   "cell_type": "code",
   "execution_count": 37,
   "metadata": {},
   "outputs": [
    {
     "name": "stdout",
     "output_type": "stream",
     "text": [
      "Finished populating metadata and associated file to the model:\n",
      "models/model.tflite\n",
      "The metadata json file has been saved to:\n",
      "models/model.json\n",
      "The associated file that has been been packed to the model is:\n",
      "['vocab.txt', 'labels.txt']\n"
     ]
    },
    {
     "name": "stderr",
     "output_type": "stream",
     "text": [
      "/opt/conda/lib/python3.7/site-packages/tensorflow_lite_support/metadata/python/metadata.py:344: UserWarning: File, 'vocab.txt', does not exsit in the metadata. But packing it to tflite model is still allowed.\n",
      "  \"tflite model is still allowed.\".format(f))\n"
     ]
    }
   ],
   "source": [
    "model.export(export_dir='models/')"
   ]
  },
  {
   "cell_type": "code",
   "execution_count": null,
   "metadata": {},
   "outputs": [],
   "source": []
  }
 ],
 "metadata": {
  "kernelspec": {
   "display_name": "Python 3",
   "language": "python",
   "name": "python3"
  },
  "language_info": {
   "codemirror_mode": {
    "name": "ipython",
    "version": 3
   },
   "file_extension": ".py",
   "mimetype": "text/x-python",
   "name": "python",
   "nbconvert_exporter": "python",
   "pygments_lexer": "ipython3",
   "version": "3.7.9"
  }
 },
 "nbformat": 4,
 "nbformat_minor": 4
}
